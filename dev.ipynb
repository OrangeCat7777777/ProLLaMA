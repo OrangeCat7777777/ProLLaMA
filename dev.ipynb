{
 "cells": [
  {
   "cell_type": "code",
   "execution_count": 1,
   "metadata": {},
   "outputs": [
    {
     "name": "stderr",
     "output_type": "stream",
     "text": [
      "/ai/sharedisk/workspace/weil/envs/pytorch/lib/python3.9/site-packages/tqdm/auto.py:21: TqdmWarning: IProgress not found. Please update jupyter and ipywidgets. See https://ipywidgets.readthedocs.io/en/stable/user_install.html\n",
      "  from .autonotebook import tqdm as notebook_tqdm\n"
     ]
    }
   ],
   "source": [
    "import argparse\n",
    "import json, os\n",
    "import torch\n",
    "from transformers import LlamaForCausalLM, LlamaTokenizer\n",
    "from transformers import GenerationConfig\n",
    "from tqdm import tqdm"
   ]
  },
  {
   "cell_type": "code",
   "execution_count": 2,
   "metadata": {},
   "outputs": [],
   "source": [
    "generation_config = GenerationConfig(\n",
    "    temperature=0.2,\n",
    "    top_k=40,\n",
    "    top_p=0.9,\n",
    "    do_sample=True,\n",
    "    num_beams=1,\n",
    "    repetition_penalty=1.2,\n",
    "    max_new_tokens=400\n",
    ")"
   ]
  },
  {
   "cell_type": "code",
   "execution_count": 3,
   "metadata": {},
   "outputs": [],
   "source": [
    "model_path = '/ai/sharedisk/workspace/weil/ckpts/ProLLaMA'\n",
    "load_type = torch.bfloat16\n",
    "device = 'cuda'"
   ]
  },
  {
   "cell_type": "code",
   "execution_count": 4,
   "metadata": {},
   "outputs": [],
   "source": [
    "tokenizer = LlamaTokenizer.from_pretrained(model_path)"
   ]
  },
  {
   "cell_type": "code",
   "execution_count": 5,
   "metadata": {},
   "outputs": [
    {
     "name": "stderr",
     "output_type": "stream",
     "text": [
      "Loading checkpoint shards: 100%|██████████| 2/2 [01:32<00:00, 46.10s/it]\n"
     ]
    }
   ],
   "source": [
    "model = LlamaForCausalLM.from_pretrained(\n",
    "    model_path,\n",
    "    # torch_dtype=load_type,\n",
    "    low_cpu_mem_usage=True,\n",
    "    device_map='auto',\n",
    "    quantization_config=None\n",
    ")"
   ]
  },
  {
   "cell_type": "code",
   "execution_count": 6,
   "metadata": {},
   "outputs": [],
   "source": [
    "input_text = 'Superfamily=<Ankyrin repeat-containing domain superfamily>'"
   ]
  },
  {
   "cell_type": "code",
   "execution_count": 7,
   "metadata": {},
   "outputs": [],
   "source": [
    "input_tokens = tokenizer(input_text, return_tensors=\"pt\")  "
   ]
  },
  {
   "cell_type": "code",
   "execution_count": 8,
   "metadata": {},
   "outputs": [
    {
     "data": {
      "text/plain": [
       "{'input_ids': tensor([[    1,  5670, 11922, 29922, 29966,  2744,  3459, 17056, 12312, 29899,\n",
       "          1285, 17225,  5354,  2428, 11922, 29958]]), 'attention_mask': tensor([[1, 1, 1, 1, 1, 1, 1, 1, 1, 1, 1, 1, 1, 1, 1, 1]])}"
      ]
     },
     "execution_count": 8,
     "metadata": {},
     "output_type": "execute_result"
    }
   ],
   "source": [
    "input_tokens"
   ]
  },
  {
   "cell_type": "code",
   "execution_count": 9,
   "metadata": {},
   "outputs": [],
   "source": [
    "model.eval()\n",
    "with torch.no_grad():\n",
    "    generation_output = model.generate(\n",
    "            input_ids = input_tokens[\"input_ids\"].to(device),\n",
    "            attention_mask = input_tokens['attention_mask'].to(device),\n",
    "            eos_token_id=tokenizer.eos_token_id,\n",
    "            pad_token_id=tokenizer.pad_token_id,\n",
    "            generation_config = generation_config,\n",
    "            output_attentions=False\n",
    "        )"
   ]
  },
  {
   "cell_type": "code",
   "execution_count": 10,
   "metadata": {},
   "outputs": [],
   "source": [
    "s = generation_output[0]\n",
    "output = tokenizer.decode(s,skip_special_tokens=True)"
   ]
  },
  {
   "cell_type": "code",
   "execution_count": 11,
   "metadata": {},
   "outputs": [
    {
     "data": {
      "text/plain": [
       "'Superfamily=<Ankyrin repeat-containing domain superfamily> Seq=<MKLVLLALAATLAAAAPQPTPPPSPTPIRDGYEHFNADGRTVWERDPARGEAVIRALEAGDLDAIRRLVEEGVDPNLRDRNGRTALMLASANGHTEVAEFLIDSGANPDLPDKGGSTPLMAACFRGNLDVAEYLIEQGAEPNAMDDEGLSAMDIAKENGSPEIVALLREHRPRPAEEEDDDDSSESDSSSEEESD>'"
      ]
     },
     "execution_count": 11,
     "metadata": {},
     "output_type": "execute_result"
    }
   ],
   "source": [
    "output"
   ]
  },
  {
   "cell_type": "code",
   "execution_count": 37,
   "metadata": {},
   "outputs": [],
   "source": [
    "seq = 'MKLVLLALAATLAAAAPQPTPPPSEEPTPIRDGY'"
   ]
  },
  {
   "cell_type": "code",
   "execution_count": 38,
   "metadata": {},
   "outputs": [],
   "source": [
    "out = tokenizer.encode(seq)"
   ]
  },
  {
   "cell_type": "code",
   "execution_count": 39,
   "metadata": {},
   "outputs": [],
   "source": [
    "temp = [[i] for i in out]"
   ]
  },
  {
   "cell_type": "code",
   "execution_count": 40,
   "metadata": {},
   "outputs": [],
   "source": [
    "res = [tokenizer.decode(temp[i]) for i in range(len(temp))]"
   ]
  },
  {
   "cell_type": "code",
   "execution_count": 41,
   "metadata": {},
   "outputs": [
    {
     "data": {
      "text/plain": [
       "['<s>',\n",
       " 'M',\n",
       " 'K',\n",
       " 'L',\n",
       " 'V',\n",
       " 'LL',\n",
       " 'AL',\n",
       " 'A',\n",
       " 'AT',\n",
       " 'LA',\n",
       " 'AA',\n",
       " 'AP',\n",
       " 'Q',\n",
       " 'P',\n",
       " 'TP',\n",
       " 'PP',\n",
       " 'SEE',\n",
       " 'PT',\n",
       " 'PI',\n",
       " 'R',\n",
       " 'D',\n",
       " 'G',\n",
       " 'Y']"
      ]
     },
     "execution_count": 41,
     "metadata": {},
     "output_type": "execute_result"
    }
   ],
   "source": [
    "res"
   ]
  },
  {
   "cell_type": "code",
   "execution_count": 24,
   "metadata": {},
   "outputs": [
    {
     "data": {
      "text/plain": [
       "['<s>',\n",
       " 'M',\n",
       " 'K',\n",
       " 'L',\n",
       " 'V',\n",
       " 'LL',\n",
       " 'AL',\n",
       " 'A',\n",
       " 'AT',\n",
       " 'LA',\n",
       " 'AA',\n",
       " 'AP',\n",
       " 'Q',\n",
       " 'P',\n",
       " 'TP',\n",
       " 'PP',\n",
       " 'SP',\n",
       " 'T',\n",
       " 'PI',\n",
       " 'R',\n",
       " 'D',\n",
       " 'G',\n",
       " 'Y',\n",
       " 'E',\n",
       " 'H',\n",
       " 'F',\n",
       " 'N',\n",
       " 'AD',\n",
       " 'GR',\n",
       " 'TV',\n",
       " 'W',\n",
       " 'ER',\n",
       " 'DP',\n",
       " 'AR',\n",
       " 'GE',\n",
       " 'AV',\n",
       " 'I',\n",
       " 'RA',\n",
       " 'LE',\n",
       " 'AG',\n",
       " 'DL',\n",
       " 'DA',\n",
       " 'IR',\n",
       " 'RL',\n",
       " 'VE',\n",
       " 'EG',\n",
       " 'VD',\n",
       " 'PN',\n",
       " 'LR',\n",
       " 'DR',\n",
       " 'NG',\n",
       " 'RT',\n",
       " 'AL',\n",
       " 'ML',\n",
       " 'AS',\n",
       " 'ANG',\n",
       " 'HT',\n",
       " 'EV',\n",
       " 'AE',\n",
       " 'FL',\n",
       " 'ID',\n",
       " 'SG',\n",
       " 'AN',\n",
       " 'PD',\n",
       " 'LP',\n",
       " 'DK',\n",
       " 'GG',\n",
       " 'ST',\n",
       " 'PL',\n",
       " 'MA',\n",
       " 'AC',\n",
       " 'FR',\n",
       " 'GN',\n",
       " 'LD',\n",
       " 'VA',\n",
       " 'EY',\n",
       " 'LI',\n",
       " 'EQ',\n",
       " 'GA',\n",
       " 'EP',\n",
       " 'NA',\n",
       " 'MD',\n",
       " 'DE',\n",
       " 'GL',\n",
       " 'S',\n",
       " 'AM',\n",
       " 'DI',\n",
       " 'AK',\n",
       " 'EN',\n",
       " 'GS',\n",
       " 'PE',\n",
       " 'IV',\n",
       " 'ALL',\n",
       " 'RE',\n",
       " 'HR',\n",
       " 'PR',\n",
       " 'PA',\n",
       " 'EE',\n",
       " 'ED',\n",
       " 'DD',\n",
       " 'DS',\n",
       " 'SE',\n",
       " 'SD',\n",
       " 'SS',\n",
       " 'SEE',\n",
       " 'ES',\n",
       " 'D']"
      ]
     },
     "execution_count": 24,
     "metadata": {},
     "output_type": "execute_result"
    }
   ],
   "source": [
    "res"
   ]
  },
  {
   "cell_type": "code",
   "execution_count": 29,
   "metadata": {},
   "outputs": [
    {
     "data": {
      "text/plain": [
       "torch.Size([135])"
      ]
     },
     "execution_count": 29,
     "metadata": {},
     "output_type": "execute_result"
    }
   ],
   "source": [
    "s[19:-2].shape"
   ]
  },
  {
   "cell_type": "code",
   "execution_count": 30,
   "metadata": {},
   "outputs": [],
   "source": [
    "seq = 'MKVLFLLSFLFFTGYAQNHWDEAKALLEEGCRVDPNHPDNDGTTPLILAIENGNVEIVEYLINNGADINARSKSGNTILMYAVESNNIEIVEMLIKAGANIDARDNEGRSPLMFAIRSNNSKEIIEFFIANGASPNAKDKIGWTPIMWAASSGSLDTVRYLTETGAEVDAKSNRGETSLMIATERGHEEMISILLSAGVDIEPEDDDGLTPLSMAAEEGHTELITALLRAGADPKLRDNYGETAREIAEEHRSE'"
   ]
  },
  {
   "cell_type": "code",
   "execution_count": 31,
   "metadata": {},
   "outputs": [
    {
     "data": {
      "text/plain": [
       "254"
      ]
     },
     "execution_count": 31,
     "metadata": {},
     "output_type": "execute_result"
    }
   ],
   "source": [
    "len(seq)"
   ]
  },
  {
   "cell_type": "code",
   "execution_count": 34,
   "metadata": {},
   "outputs": [
    {
     "data": {
      "text/plain": [
       "'<>'"
      ]
     },
     "execution_count": 34,
     "metadata": {},
     "output_type": "execute_result"
    }
   ],
   "source": [
    "tokenizer.decode(torch.tensor([29966, 29958]),skip_special_tokens=True)"
   ]
  },
  {
   "cell_type": "code",
   "execution_count": 26,
   "metadata": {},
   "outputs": [],
   "source": [
    "import json"
   ]
  },
  {
   "cell_type": "code",
   "execution_count": 36,
   "metadata": {},
   "outputs": [
    {
     "data": {
      "text/plain": [
       "0.5593969291062462"
      ]
     },
     "execution_count": 36,
     "metadata": {},
     "output_type": "execute_result"
    }
   ],
   "source": [
    "res_path = '/ai/sharedisk/workspace/weil/ZymCTRL/generated_seqs/ec_3.5.5.1/esmfold_results.json'\n",
    "with open(res_path, 'r') as handle:\n",
    "    res = json.load(handle)\n",
    "plddts = [item['plddt'] for item in res]\n",
    "np.median(plddts)"
   ]
  },
  {
   "cell_type": "code",
   "execution_count": 27,
   "metadata": {},
   "outputs": [],
   "source": []
  },
  {
   "cell_type": "code",
   "execution_count": 29,
   "metadata": {},
   "outputs": [],
   "source": []
  },
  {
   "cell_type": "code",
   "execution_count": 31,
   "metadata": {},
   "outputs": [],
   "source": [
    "import numpy as np"
   ]
  },
  {
   "cell_type": "code",
   "execution_count": 32,
   "metadata": {},
   "outputs": [
    {
     "data": {
      "text/plain": [
       "0.8306883116883117"
      ]
     },
     "execution_count": 32,
     "metadata": {},
     "output_type": "execute_result"
    }
   ],
   "source": []
  }
 ],
 "metadata": {
  "kernelspec": {
   "display_name": "transformers",
   "language": "python",
   "name": "python3"
  },
  "language_info": {
   "codemirror_mode": {
    "name": "ipython",
    "version": 3
   },
   "file_extension": ".py",
   "mimetype": "text/x-python",
   "name": "python",
   "nbconvert_exporter": "python",
   "pygments_lexer": "ipython3",
   "version": "3.9.13"
  }
 },
 "nbformat": 4,
 "nbformat_minor": 2
}
